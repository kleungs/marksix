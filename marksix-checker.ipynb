{
 "cells": [
  {
   "cell_type": "code",
   "execution_count": 1,
   "metadata": {},
   "outputs": [
    {
     "name": "stdout",
     "output_type": "stream",
     "text": [
      "\u001b[1m\u001b[94m自動對六合彩號碼\u001b[0m\n",
      " \n",
      "輸入六位號碼\n"
     ]
    },
    {
     "data": {
      "application/vnd.jupyter.widget-view+json": {
       "model_id": "9920b8aa13814ade9ee24ae541a2d230",
       "version_major": 2,
       "version_minor": 0
      },
      "text/plain": [
       "interactive(children=(BoundedIntText(value=1, description='No1', max=49, min=1), BoundedIntText(value=1, descr…"
      ]
     },
     "metadata": {},
     "output_type": "display_data"
    }
   ],
   "source": [
    "# Mark Six Checker\n",
    "\n",
    "import pandas as pd \n",
    "import numpy as np \n",
    "from datetime import date\n",
    "from ipywidgets import *\n",
    "\n",
    "class color:\n",
    "   PURPLE = '\\033[95m'\n",
    "   CYAN = '\\033[96m'\n",
    "   DARKCYAN = '\\033[36m'\n",
    "   BLUE = '\\033[94m'\n",
    "   GREEN = '\\033[92m'\n",
    "   YELLOW = '\\033[93m'\n",
    "   RED = '\\033[91m'\n",
    "   BOLD = '\\033[1m'\n",
    "   UNDERLINE = '\\033[4m'\n",
    "   END = '\\033[0m'\n",
    "\n",
    "\n",
    "def test(No1, No2, No3, No4, No5, No6):\n",
    "    current_year = date.today().year\n",
    "    url = \"http://www.nfd.com.tw/house/year/\"+str(current_year)+\".htm\"\n",
    "    data = pd.read_html(url)\n",
    "    df = data[0]\n",
    "    result = ((df.iloc[-1 , -7:].values.tolist()))\n",
    "    \n",
    "    # Convert list element from text to number\n",
    "    result = list(map(int, result))\n",
    "\n",
    "    period = (df.iloc[-1,0] +\"/\" + df.iloc[-1,1])\n",
    "#     buy=[]\n",
    "    buy=[No1, No2, No3, No4, No5, No6]\n",
    "    buy=[buy]\n",
    "    df = pd.DataFrame( columns = ['攪珠期數', '攪珠結果', '買入組合', '中獎號碼', '中獎注數'])\n",
    "    \n",
    "\n",
    "    for i in range(len(buy)):\n",
    "        res = [x for x in buy[i] if x in buy[i] and x in result]\n",
    "        special = [y for y in buy[i] if y in buy[i] and y in [result[6]]]\n",
    "        win = len(res)-len(special)/2\n",
    "        df.loc[len(df)] = [ period, result, buy[i], res, win ]\n",
    "    df.set_index('攪珠期數')\n",
    "\n",
    "    display(df)\n",
    "\n",
    "input1 = widgets.BoundedIntText(min=1,max=49,step=1)\n",
    "input2 = widgets.BoundedIntText(min=1,max=49,step=1)\n",
    "input3 = widgets.BoundedIntText(min=1,max=49,step=1)\n",
    "input4 = widgets.BoundedIntText(min=1,max=49,step=1)\n",
    "input5 = widgets.BoundedIntText(min=1,max=49,step=1)\n",
    "input6 = widgets.BoundedIntText(min=1,max=49,step=1)\n",
    "\n",
    "w = interactive(test,  No1=input1,\n",
    "                        No2=input2,\n",
    "                        No3=input3,\n",
    "                        No4=input4,\n",
    "                        No5=input5,\n",
    "                        No6=input6\n",
    "                       )\n",
    "\n",
    "print(color.BOLD + color.BLUE + '自動對六合彩號碼' + color.END )\n",
    "print(\" \")\n",
    "print(\"輸入六位號碼\")\n",
    "display(w)"
   ]
  },
  {
   "cell_type": "code",
   "execution_count": null,
   "metadata": {},
   "outputs": [],
   "source": []
  },
  {
   "cell_type": "code",
   "execution_count": null,
   "metadata": {},
   "outputs": [],
   "source": []
  },
  {
   "cell_type": "code",
   "execution_count": null,
   "metadata": {},
   "outputs": [],
   "source": []
  },
  {
   "cell_type": "code",
   "execution_count": null,
   "metadata": {},
   "outputs": [],
   "source": []
  }
 ],
 "metadata": {
  "kernelspec": {
   "display_name": "Python 3",
   "language": "python",
   "name": "python3"
  },
  "language_info": {
   "codemirror_mode": {
    "name": "ipython",
    "version": 3
   },
   "file_extension": ".py",
   "mimetype": "text/x-python",
   "name": "python",
   "nbconvert_exporter": "python",
   "pygments_lexer": "ipython3",
   "version": "3.8.6"
  }
 },
 "nbformat": 4,
 "nbformat_minor": 4
}

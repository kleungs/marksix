{
  "nbformat": 4,
  "nbformat_minor": 0,
  "metadata": {
    "colab": {
      "provenance": [],
      "authorship_tag": "ABX9TyNn3FX4iqBRE+2dfi7foZcY",
      "include_colab_link": true
    },
    "kernelspec": {
      "name": "python3",
      "display_name": "Python 3"
    },
    "language_info": {
      "name": "python"
    }
  },
  "cells": [
    {
      "cell_type": "markdown",
      "metadata": {
        "id": "view-in-github",
        "colab_type": "text"
      },
      "source": [
        "<a href=\"https://colab.research.google.com/github/kleungs/marksix/blob/main/Random.ipynb\" target=\"_parent\"><img src=\"https://colab.research.google.com/assets/colab-badge.svg\" alt=\"Open In Colab\"/></a>"
      ]
    },
    {
      "cell_type": "code",
      "execution_count": 3,
      "metadata": {
        "colab": {
          "base_uri": "https://localhost:8080/"
        },
        "id": "lUrPAHKi0s4W",
        "outputId": "a9608833-dca6-410c-f1f5-8876ba9fe5a8"
      },
      "outputs": [
        {
          "output_type": "stream",
          "name": "stdout",
          "text": [
            "第一注: [25, 28, 34, 26, 4, 6]\n",
            "第二注: [47, 20, 38, 21, 42, 40]\n"
          ]
        }
      ],
      "source": [
        "import random\n",
        "\n",
        "list_of_numbers = range(1,50)\n",
        "\n",
        "pair1 = random.sample(list_of_numbers, 6)\n",
        "pair2 = random.sample(list_of_numbers, 6)\n",
        "\n",
        "print(\"第一注:\", pair1)\n",
        "print(\"第二注:\", pair2)"
      ]
    }
  ]
}
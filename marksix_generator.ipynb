{
  "nbformat": 4,
  "nbformat_minor": 0,
  "metadata": {
    "colab": {
      "provenance": [],
      "collapsed_sections": [],
      "toc_visible": true,
      "authorship_tag": "ABX9TyOSIVQpHcwrS9IFV359sHRw",
      "include_colab_link": true
    },
    "kernelspec": {
      "name": "python3",
      "display_name": "Python 3"
    },
    "language_info": {
      "name": "python"
    }
  },
  "cells": [
    {
      "cell_type": "markdown",
      "metadata": {
        "id": "view-in-github",
        "colab_type": "text"
      },
      "source": [
        "<a href=\"https://colab.research.google.com/github/kleungs/marksix/blob/main/marksix_generator.ipynb\" target=\"_parent\"><img src=\"https://colab.research.google.com/assets/colab-badge.svg\" alt=\"Open In Colab\"/></a>"
      ]
    },
    {
      "cell_type": "code",
      "source": [
        "# from pandas import ExcelWriter \n",
        "import pandas as pd\n",
        "import numpy as np\n",
        "# import matplotlib.pyplot as plt\n",
        "# import pandas_datareader.data as web\n",
        "# import yfinance as yf\n",
        "# import matplotlib.pyplot as plt\n",
        "from datetime import date\n",
        "from datetime import timedelta\n",
        "import random\n",
        "\n",
        "# import html5lib\n",
        "# import requests \n",
        "# USER_AGENT = { 'User-Agent': ('Mozilla/5.0 (Windows NT 10.0; Win64; x64) AppleWebKit/537.36 (KHTML, like Gecko) Chrome/91.0.4472.124 Safari/537.36') } \n",
        "# sesh = requests.Session() \n",
        "# sesh.headers.update(USER_AGENT)\n",
        "\n",
        "# No of bet\n",
        "entry=10\n",
        "\n",
        "# No of year to be considered\n",
        "history = 5\n",
        "\n",
        "# Size of hot pool\n",
        "n = 22\n",
        "\n",
        "urlhead = \"http://www.nfd.com.tw/house/year/\"\n",
        "urltail = \".htm\"\n",
        "\n",
        "# df = pd.DataFrame(columns = ['1', '2', '3', '4', '5', '6', '7'])\n",
        "current_year = date.today().year\n",
        "for i in range(current_year-history,current_year+1):\n",
        "    url = \"http://www.nfd.com.tw/house/year/\"+str(i)+\".htm\"\n",
        "    filename = \"./marksix/marksix\"+str(i)+\".xlsx\"\n",
        "    data = pd.read_html(url)\n",
        "    dfyear = data[0].iloc[1:, -7:]\n",
        "    dfyear.columns=['No1', 'No2', 'No3', 'No4', 'No5', 'No6', 'No7']\n",
        "    if i==(current_year-history):\n",
        "      df=dfyear\n",
        "    else:\n",
        "      df=pd.concat((df, dfyear), axis = 0)\n",
        "      # df=df.append(dfyear)\n",
        "\n",
        "df = df.reset_index(drop=True)\n",
        "\n",
        "dflongfreq = df[['No1', 'No2', 'No3','No4', 'No5', 'No6']].apply(pd.Series.value_counts).fillna(0).sum(1).astype(int).to_frame()\n",
        "# print((res))\n",
        "dflongfreq.columns =['Freq']\n",
        "dflongfreq['Number']=dflongfreq.index\n",
        "dflongfreq = dflongfreq.sort_values([\"Freq\"], ascending=False)\n",
        "# dflongfreq.reindex()\n",
        "\n",
        "\n",
        "hotlist = dflongfreq['Number'][:n].values.tolist()\n",
        "# hotlist = dfshortfreq1['Number'][:n].values.tolist()\n",
        "hotrandomlist=[]\n",
        "for i in range((entry*6)//6):    \n",
        "    hotrandomlist.append(random.sample(hotlist, k=6))\n",
        "#     print(randomlist)\n",
        "    \n",
        "hotrandomgen = []\n",
        "\n",
        "for sublist in hotrandomlist:\n",
        "    for item in sublist:\n",
        "        hotrandomgen.append(item)\n",
        "hotrandomgen=hotrandomgen[:entry*6]\n",
        "\n",
        "\n",
        "\n",
        "\n",
        "\n",
        "dfbet = pd.DataFrame()\n",
        "\n",
        "dfbet['Hot Random']=hotrandomgen\n",
        "dfbet['bet']=dfbet.index//6+1\n",
        "# dfbet['bet']=dfbet['bet'].astype(str)\n",
        "dfbet=dfbet.iloc[0:entry*6]\n",
        "\n",
        "method ='Hot Random'\n",
        "\n",
        "buy = dfbet.groupby(['bet'])[method].apply(lambda x: tuple(x))\n",
        "\n",
        "\n",
        "times=0\n",
        "dupcheck=0\n",
        "for m in range(1, entry+1):\n",
        "    if (len(set(buy[m]))<6):\n",
        "        dupcheck += 1\n",
        "\n",
        "\n",
        "if dupcheck>0:\n",
        "#     print(dupcheck, 'Please re-generate')\n",
        "    (Javascript('IPython.notebook.execute_cells_above()'))\n",
        "\n",
        "else:\n",
        "    print(buy)"
      ],
      "metadata": {
        "colab": {
          "base_uri": "https://localhost:8080/"
        },
        "id": "PfJPhfMNf7dS",
        "outputId": "6acf064b-c278-4a84-c16a-2dba126d492d"
      },
      "execution_count": 1,
      "outputs": [
        {
          "output_type": "stream",
          "name": "stdout",
          "text": [
            "bet\n",
            "1     (23, 38, 49, 08, 01, 13)\n",
            "2     (35, 33, 11, 24, 44, 30)\n",
            "3     (24, 29, 33, 13, 11, 23)\n",
            "4     (20, 11, 34, 29, 07, 23)\n",
            "5     (34, 29, 11, 21, 23, 02)\n",
            "6     (34, 21, 07, 11, 20, 08)\n",
            "7     (35, 01, 23, 33, 46, 29)\n",
            "8     (33, 29, 44, 34, 01, 46)\n",
            "9     (35, 30, 08, 12, 24, 11)\n",
            "10    (21, 22, 08, 23, 33, 29)\n",
            "Name: Hot Random, dtype: object\n"
          ]
        }
      ]
    },
    {
      "cell_type": "markdown",
      "source": [
        "# New Section"
      ],
      "metadata": {
        "id": "AyxTKFQ9b_V1"
      }
    }
  ]
}